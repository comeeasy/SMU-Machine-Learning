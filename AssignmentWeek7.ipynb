{
 "cells": [
  {
   "cell_type": "markdown",
   "id": "c4c5bd85",
   "metadata": {},
   "source": [
    "# Week7 Practice\n",
    "\n",
    "## 1. Logistic Regression : 합격 여부 판단\n",
    "\n",
    "### 1) 로지스틱 회귀"
   ]
  },
  {
   "cell_type": "code",
   "execution_count": 1,
   "id": "36713e47",
   "metadata": {},
   "outputs": [
    {
     "data": {
      "text/html": [
       "<div>\n",
       "<style scoped>\n",
       "    .dataframe tbody tr th:only-of-type {\n",
       "        vertical-align: middle;\n",
       "    }\n",
       "\n",
       "    .dataframe tbody tr th {\n",
       "        vertical-align: top;\n",
       "    }\n",
       "\n",
       "    .dataframe thead th {\n",
       "        text-align: right;\n",
       "    }\n",
       "</style>\n",
       "<table border=\"1\" class=\"dataframe\">\n",
       "  <thead>\n",
       "    <tr style=\"text-align: right;\">\n",
       "      <th></th>\n",
       "      <th>ex1</th>\n",
       "      <th>ex2</th>\n",
       "      <th>Admitted</th>\n",
       "    </tr>\n",
       "  </thead>\n",
       "  <tbody>\n",
       "    <tr>\n",
       "      <th>0</th>\n",
       "      <td>34.623660</td>\n",
       "      <td>78.024693</td>\n",
       "      <td>0</td>\n",
       "    </tr>\n",
       "    <tr>\n",
       "      <th>1</th>\n",
       "      <td>30.286711</td>\n",
       "      <td>43.894998</td>\n",
       "      <td>0</td>\n",
       "    </tr>\n",
       "    <tr>\n",
       "      <th>2</th>\n",
       "      <td>35.847409</td>\n",
       "      <td>72.902198</td>\n",
       "      <td>0</td>\n",
       "    </tr>\n",
       "    <tr>\n",
       "      <th>3</th>\n",
       "      <td>60.182599</td>\n",
       "      <td>86.308552</td>\n",
       "      <td>1</td>\n",
       "    </tr>\n",
       "    <tr>\n",
       "      <th>4</th>\n",
       "      <td>79.032736</td>\n",
       "      <td>75.344376</td>\n",
       "      <td>1</td>\n",
       "    </tr>\n",
       "    <tr>\n",
       "      <th>...</th>\n",
       "      <td>...</td>\n",
       "      <td>...</td>\n",
       "      <td>...</td>\n",
       "    </tr>\n",
       "    <tr>\n",
       "      <th>95</th>\n",
       "      <td>83.489163</td>\n",
       "      <td>48.380286</td>\n",
       "      <td>1</td>\n",
       "    </tr>\n",
       "    <tr>\n",
       "      <th>96</th>\n",
       "      <td>42.261701</td>\n",
       "      <td>87.103851</td>\n",
       "      <td>1</td>\n",
       "    </tr>\n",
       "    <tr>\n",
       "      <th>97</th>\n",
       "      <td>99.315009</td>\n",
       "      <td>68.775409</td>\n",
       "      <td>1</td>\n",
       "    </tr>\n",
       "    <tr>\n",
       "      <th>98</th>\n",
       "      <td>55.340018</td>\n",
       "      <td>64.931938</td>\n",
       "      <td>1</td>\n",
       "    </tr>\n",
       "    <tr>\n",
       "      <th>99</th>\n",
       "      <td>74.775893</td>\n",
       "      <td>89.529813</td>\n",
       "      <td>1</td>\n",
       "    </tr>\n",
       "  </tbody>\n",
       "</table>\n",
       "<p>100 rows × 3 columns</p>\n",
       "</div>"
      ],
      "text/plain": [
       "          ex1        ex2  Admitted\n",
       "0   34.623660  78.024693         0\n",
       "1   30.286711  43.894998         0\n",
       "2   35.847409  72.902198         0\n",
       "3   60.182599  86.308552         1\n",
       "4   79.032736  75.344376         1\n",
       "..        ...        ...       ...\n",
       "95  83.489163  48.380286         1\n",
       "96  42.261701  87.103851         1\n",
       "97  99.315009  68.775409         1\n",
       "98  55.340018  64.931938         1\n",
       "99  74.775893  89.529813         1\n",
       "\n",
       "[100 rows x 3 columns]"
      ]
     },
     "execution_count": 1,
     "metadata": {},
     "output_type": "execute_result"
    }
   ],
   "source": [
    "import numpy as np\n",
    "\n",
    "# (시험 1점수), (시험2 점수), (합격 여부)\n",
    "# Ng, Machine Learning, Course, ml-ex 중\n",
    "import pandas as pd\n",
    "\n",
    "data = pd.read_csv(\"admit.txt\", names=['ex1', 'ex2', 'Admitted'])\n",
    "data"
   ]
  },
  {
   "cell_type": "code",
   "execution_count": 2,
   "id": "d7a83eaf",
   "metadata": {},
   "outputs": [
    {
     "name": "stdout",
     "output_type": "stream",
     "text": [
      "(100, 2) (100, 1)\n"
     ]
    }
   ],
   "source": [
    "X = np.c_[data[\"ex1\"], data[\"ex2\"]]\n",
    "y = data[\"Admitted\"]\n",
    "m = len(data)\n",
    "\n",
    "# numpy array 형태로 변환, 형태 변환(m) -> (m, 1)\n",
    "X = np.array(X).reshape(m, 2)\n",
    "y = np.array(y).reshape(m, 1)\n",
    "print(X.shape, y.shape)"
   ]
  },
  {
   "cell_type": "markdown",
   "id": "3dcf00b3",
   "metadata": {},
   "source": [
    "### 2) 그래프 그리기"
   ]
  },
  {
   "cell_type": "code",
   "execution_count": 3,
   "id": "4f6d5459",
   "metadata": {},
   "outputs": [
    {
     "name": "stdout",
     "output_type": "stream",
     "text": [
      "[3, 4, 6, 7, 8, 9, 12, 13, 15, 16, 18, 19, 21, 24, 25, 26, 30, 31, 33, 37, 40, 42, 46, 47, 48, 49, 50, 51, 52, 56, 58, 59, 60, 66, 68, 69, 71, 72, 73, 74, 75, 76, 77, 80, 81, 82, 83, 84, 85, 87, 88, 90, 91, 93, 94, 95, 96, 97, 98, 99]\n",
      "[0, 1, 2, 5, 10, 11, 14, 17, 20, 22, 23, 27, 28, 29, 32, 34, 35, 36, 38, 39, 41, 43, 44, 45, 53, 54, 55, 57, 61, 62, 63, 64, 65, 67, 70, 78, 79, 86, 89, 92]\n"
     ]
    }
   ],
   "source": [
    "pos = []\n",
    "neg = []\n",
    "\n",
    "for i, val in enumerate(y):\n",
    "    if val == 1:\n",
    "        pos.append(i)\n",
    "    else:\n",
    "        neg.append(i)\n",
    "print(pos)\n",
    "print(neg)"
   ]
  },
  {
   "cell_type": "code",
   "execution_count": 4,
   "id": "bf0e3dc7",
   "metadata": {},
   "outputs": [
    {
     "data": {
      "image/png": "[encoded data removed]",
      "text/plain": [
       "<Figure size 432x288 with 1 Axes>"
      ]
     },
     "metadata": {
      "needs_background": "light"
     },
     "output_type": "display_data"
    }
   ],
   "source": [
    "import matplotlib.pyplot as plt\n",
    "\n",
    "plt.plot(X[pos, 0].reshape(-1), X[pos, 1].reshape(-1), 'b+', label=\"Admitted\")\n",
    "plt.plot(X[neg, 0].reshape(-1), X[neg, 1].reshape(-1), 'ro', label=\"Not admitted\")\n",
    "plt.xlabel(\"Exam 1 Score\")\n",
    "plt.ylabel(\"Exam 2 Score\")\n",
    "plt.legend(loc=\"upper right\")\n",
    "plt.show()"
   ]
  },
  {
   "cell_type": "markdown",
   "id": "e61193d0",
   "metadata": {},
   "source": [
    "### 3) 학습"
   ]
  },
  {
   "cell_type": "code",
   "execution_count": 5,
   "id": "5695b1bd",
   "metadata": {},
   "outputs": [
    {
     "name": "stderr",
     "output_type": "stream",
     "text": [
      "/opt/anaconda3/envs/machine-learning/lib/python3.9/site-packages/sklearn/utils/validation.py:63: DataConversionWarning: A column-vector y was passed when a 1d array was expected. Please change the shape of y to (n_samples, ), for example using ravel().\n",
      "  return f(*args, **kwargs)\n"
     ]
    },
    {
     "data": {
      "text/plain": [
       "LogisticRegression(C=10, solver='liblinear')"
      ]
     },
     "execution_count": 5,
     "metadata": {},
     "output_type": "execute_result"
    }
   ],
   "source": [
    "from sklearn.linear_model import LogisticRegression\n",
    "\n",
    "log_reg = LogisticRegression(solver=\"liblinear\", C=10) # C가 클수록 regularization 약해짐\n",
    "log_reg.fit(X, y)"
   ]
  },
  {
   "cell_type": "code",
   "execution_count": 6,
   "id": "30d182d9",
   "metadata": {},
   "outputs": [
    {
     "data": {
      "text/plain": [
       "array([0, 1])"
      ]
     },
     "execution_count": 6,
     "metadata": {},
     "output_type": "execute_result"
    }
   ],
   "source": [
    "# exam1 30, exam2 70\n",
    "# exam1 50, exam2 90\n",
    "# 합격? 불합격?\n",
    "log_reg.predict([[30, 70],\n",
    "                 [50, 90]])"
   ]
  },
  {
   "cell_type": "markdown",
   "id": "43babd2f",
   "metadata": {},
   "source": [
    "### 4) Decision Boundary"
   ]
  },
  {
   "cell_type": "code",
   "execution_count": 7,
   "id": "f1a3e026",
   "metadata": {},
   "outputs": [
    {
     "name": "stderr",
     "output_type": "stream",
     "text": [
      "/var/folders/l4/0n86l_692hx8xxqz3fqkk6mm0000gn/T/ipykernel_2630/1607568763.py:12: MatplotlibDeprecationWarning: shading='flat' when X and Y have the same dimensions as C is deprecated since 3.3.  Either specify the corners of the quadrilaterals with X and Y, or pass shading='auto', 'nearest' or 'gouraud', or set rcParams['pcolor.shading'].  This will become an error two minor releases later.\n",
      "  plt.pcolormesh(xx, yy, Z, cmap=plt.cm.Paired)\n"
     ]
    },
    {
     "data": {
      "image/png": "[encoded data removed]",
      "text/plain": [
       "<Figure size 432x288 with 1 Axes>"
      ]
     },
     "metadata": {
      "needs_background": "light"
     },
     "output_type": "display_data"
    }
   ],
   "source": [
    "# Plot the decision boundary. For thatm we will assign a color to each\n",
    "# points in the mesh [x_min, x_max] * [y_min, y_max]]\n",
    "exam1_min, exam1_max = X[:, 0].min(), X[:, 0].max()\n",
    "exam2_min, exam2_max = X[:, 1].min(), X[:, 1].max()\n",
    "h = .2 # step size in the mesh\n",
    "xx, yy = np.meshgrid(np.arange(exam1_min, exam1_max, h), np.arange(exam2_min, exam2_max, h))\n",
    "Z = log_reg.predict(np.c_[xx.ravel(), yy.ravel()])\n",
    "\n",
    "# Put the result into a color plot\n",
    "Z = Z.reshape(xx.shape)\n",
    "plt.figure(1)\n",
    "plt.pcolormesh(xx, yy, Z, cmap=plt.cm.Paired)\n",
    "\n",
    "# Plot also the training points\n",
    "plt.plot(X[pos, 0].reshape(-1), X[pos, 1].reshape(-1), 'b+', label=\"Passed\")\n",
    "plt.plot(X[neg, 0].reshape(-1), X[neg, 1].reshape(-1), 'ro', label=\"Not passed\")\n",
    "plt.xlabel(\"Exam 1 Score\")\n",
    "plt.ylabel(\"Exam 2 Score\")\n",
    "plt.legend(loc=\"upper right\")\n",
    "\n",
    "plt.xlim(xx.min(), xx.max())\n",
    "plt.ylim(yy.min(), yy.max())\n",
    "plt.xticks()\n",
    "plt.yticks()\n",
    "plt.show()"
   ]
  },
  {
   "cell_type": "markdown",
   "id": "4805e2df",
   "metadata": {},
   "source": [
    "## 2. 로지스틱 회귀 + 정규화 \n",
    "- 1) 합격 여부 데이터 읽기\n",
    "- 2) 그래프 그리기\n",
    "- 3) 학습 \n",
    "- 4) decision boundary\n",
    "\n",
    "### 1) 불량 여부 데이터 읽기"
   ]
  },
  {
   "cell_type": "code",
   "execution_count": 8,
   "id": "96c9cdc5",
   "metadata": {},
   "outputs": [
    {
     "data": {
      "text/html": [
       "<div>\n",
       "<style scoped>\n",
       "    .dataframe tbody tr th:only-of-type {\n",
       "        vertical-align: middle;\n",
       "    }\n",
       "\n",
       "    .dataframe tbody tr th {\n",
       "        vertical-align: top;\n",
       "    }\n",
       "\n",
       "    .dataframe thead th {\n",
       "        text-align: right;\n",
       "    }\n",
       "</style>\n",
       "<table border=\"1\" class=\"dataframe\">\n",
       "  <thead>\n",
       "    <tr style=\"text-align: right;\">\n",
       "      <th></th>\n",
       "      <th>t1</th>\n",
       "      <th>t2</th>\n",
       "      <th>Passed</th>\n",
       "    </tr>\n",
       "  </thead>\n",
       "  <tbody>\n",
       "    <tr>\n",
       "      <th>0</th>\n",
       "      <td>0.051267</td>\n",
       "      <td>0.699560</td>\n",
       "      <td>1</td>\n",
       "    </tr>\n",
       "    <tr>\n",
       "      <th>1</th>\n",
       "      <td>-0.092742</td>\n",
       "      <td>0.684940</td>\n",
       "      <td>1</td>\n",
       "    </tr>\n",
       "    <tr>\n",
       "      <th>2</th>\n",
       "      <td>-0.213710</td>\n",
       "      <td>0.692250</td>\n",
       "      <td>1</td>\n",
       "    </tr>\n",
       "    <tr>\n",
       "      <th>3</th>\n",
       "      <td>-0.375000</td>\n",
       "      <td>0.502190</td>\n",
       "      <td>1</td>\n",
       "    </tr>\n",
       "    <tr>\n",
       "      <th>4</th>\n",
       "      <td>-0.513250</td>\n",
       "      <td>0.465640</td>\n",
       "      <td>1</td>\n",
       "    </tr>\n",
       "    <tr>\n",
       "      <th>...</th>\n",
       "      <td>...</td>\n",
       "      <td>...</td>\n",
       "      <td>...</td>\n",
       "    </tr>\n",
       "    <tr>\n",
       "      <th>113</th>\n",
       "      <td>-0.720620</td>\n",
       "      <td>0.538740</td>\n",
       "      <td>0</td>\n",
       "    </tr>\n",
       "    <tr>\n",
       "      <th>114</th>\n",
       "      <td>-0.593890</td>\n",
       "      <td>0.494880</td>\n",
       "      <td>0</td>\n",
       "    </tr>\n",
       "    <tr>\n",
       "      <th>115</th>\n",
       "      <td>-0.484450</td>\n",
       "      <td>0.999270</td>\n",
       "      <td>0</td>\n",
       "    </tr>\n",
       "    <tr>\n",
       "      <th>116</th>\n",
       "      <td>-0.006336</td>\n",
       "      <td>0.999270</td>\n",
       "      <td>0</td>\n",
       "    </tr>\n",
       "    <tr>\n",
       "      <th>117</th>\n",
       "      <td>0.632650</td>\n",
       "      <td>-0.030612</td>\n",
       "      <td>0</td>\n",
       "    </tr>\n",
       "  </tbody>\n",
       "</table>\n",
       "<p>118 rows × 3 columns</p>\n",
       "</div>"
      ],
      "text/plain": [
       "           t1        t2  Passed\n",
       "0    0.051267  0.699560       1\n",
       "1   -0.092742  0.684940       1\n",
       "2   -0.213710  0.692250       1\n",
       "3   -0.375000  0.502190       1\n",
       "4   -0.513250  0.465640       1\n",
       "..        ...       ...     ...\n",
       "113 -0.720620  0.538740       0\n",
       "114 -0.593890  0.494880       0\n",
       "115 -0.484450  0.999270       0\n",
       "116 -0.006336  0.999270       0\n",
       "117  0.632650 -0.030612       0\n",
       "\n",
       "[118 rows x 3 columns]"
      ]
     },
     "execution_count": 8,
     "metadata": {},
     "output_type": "execute_result"
    }
   ],
   "source": [
    "import numpy as np\n",
    "import pandas as pd\n",
    "\n",
    "data = pd.read_csv(\"qa.txt\", names=[\"t1\", \"t2\", \"Passed\"])\n",
    "data"
   ]
  },
  {
   "cell_type": "code",
   "execution_count": 9,
   "id": "c0ce28b9",
   "metadata": {},
   "outputs": [
    {
     "name": "stdout",
     "output_type": "stream",
     "text": [
      "(118, 2) (118, 1)\n"
     ]
    }
   ],
   "source": [
    "X = np.c_[data[\"t1\"], data[\"t2\"]]\n",
    "y = data[\"Passed\"]\n",
    "m = len(data)\n",
    "\n",
    "X = np.array(X).reshape(m, 2)\n",
    "y = np.array(y).reshape(m, 1)\n",
    "print(X.shape, y.shape)"
   ]
  },
  {
   "cell_type": "markdown",
   "id": "49ad4d93",
   "metadata": {},
   "source": [
    "### 2) 그래프 그리기"
   ]
  },
  {
   "cell_type": "code",
   "execution_count": 10,
   "id": "0d6df9d0",
   "metadata": {},
   "outputs": [
    {
     "data": {
      "image/png": "[encoded data removed]",
      "text/plain": [
       "<Figure size 432x288 with 1 Axes>"
      ]
     },
     "metadata": {
      "needs_background": "light"
     },
     "output_type": "display_data"
    }
   ],
   "source": [
    "import matplotlib.pyplot as plt\n",
    "\n",
    "pos = [i for i, val in enumerate(y) if val == 1]\n",
    "neg = [i for i, val in enumerate(y) if val == 0]\n",
    "\n",
    "plt.plot(X[pos, 0].reshape(-1), X[pos, 1].reshape(-1), 'b+', label=\"Passed\")\n",
    "plt.plot(X[neg, 0].reshape(-1), X[neg, 1].reshape(-1), 'ro', label=\"Failed\")\n",
    "plt.xlabel(\"Microchip Test 1\")\n",
    "plt.ylabel(\"Microchip Test 2\")\n",
    "plt.legend(loc=\"upper right\")\n",
    "plt.show()"
   ]
  },
  {
   "cell_type": "markdown",
   "id": "12b8ac93",
   "metadata": {},
   "source": [
    "### 3) 학습"
   ]
  },
  {
   "cell_type": "code",
   "execution_count": 11,
   "id": "1b33f11c",
   "metadata": {},
   "outputs": [
    {
     "name": "stdout",
     "output_type": "stream",
     "text": [
      "[0.051267 0.69956 ]\n",
      "(27,)\n"
     ]
    }
   ],
   "source": [
    "from sklearn.preprocessing import PolynomialFeatures\n",
    "\n",
    "poly_features = PolynomialFeatures(degree=6, include_bias=False)\n",
    "X_poly = poly_features.fit_transform(X)\n",
    "print(X[0])\n",
    "print(X_poly[0].shape)\n"
   ]
  },
  {
   "cell_type": "code",
   "execution_count": 12,
   "id": "4e9bc6f2",
   "metadata": {},
   "outputs": [
    {
     "name": "stderr",
     "output_type": "stream",
     "text": [
      "/opt/anaconda3/envs/machine-learning/lib/python3.9/site-packages/sklearn/utils/validation.py:63: DataConversionWarning: A column-vector y was passed when a 1d array was expected. Please change the shape of y to (n_samples, ), for example using ravel().\n",
      "  return f(*args, **kwargs)\n"
     ]
    },
    {
     "data": {
      "text/plain": [
       "LogisticRegression(C=0.1, solver='liblinear')"
      ]
     },
     "execution_count": 12,
     "metadata": {},
     "output_type": "execute_result"
    }
   ],
   "source": [
    "poly_features = PolynomialFeatures(degree=6, include_bias=False)\n",
    "X_poly = poly_features.fit_transform(X)\n",
    "\n",
    "from sklearn.linear_model import LogisticRegression\n",
    "\n",
    "log_reg = LogisticRegression(penalty=\"l2\", solver=\"liblinear\", C=1e-1)\n",
    "log_reg.fit(X_poly, y)"
   ]
  },
  {
   "cell_type": "markdown",
   "id": "9ba0b9e0",
   "metadata": {},
   "source": [
    "### 4) Decision boundary"
   ]
  },
  {
   "cell_type": "code",
   "execution_count": 13,
   "id": "3eb76fcc",
   "metadata": {},
   "outputs": [],
   "source": [
    "def draw_plot():\n",
    "    u = np.linspace(-1, 1.5, 300)\n",
    "    v = np.linspace(-1, 1.5, 300)\n",
    "    z = np.zeros((len(u), len(v)))\n",
    "\n",
    "    for i in range(len(u)):\n",
    "        a = []\n",
    "        for j in range(len(v)):\n",
    "            a.append(np.array([u[i], v[j]]))\n",
    "        mydata = poly_features.fit_transform(a)\n",
    "        z[i] = log_reg.predict(mydata)\n",
    "\n",
    "    plt.contour(u, v, z, 0)\n",
    "\n",
    "    plt.plot(X[pos, 0].reshape(-1), X[pos, 1].reshape(-1), 'b+', label='Passed')\n",
    "    plt.plot(X[neg, 0].reshape(-1), X[neg, 1].reshape(-1), 'ro', label='Failed')\n",
    "    plt.xlabel(\"Microchip Test 1\")\n",
    "    plt.ylabel(\"Microchip Test 2\")\n",
    "    plt.legend(loc=\"upper right\")\n",
    "    plt.show()"
   ]
  },
  {
   "cell_type": "markdown",
   "id": "a570abcd",
   "metadata": {},
   "source": [
    "#### C = 1e4"
   ]
  },
  {
   "cell_type": "code",
   "execution_count": 14,
   "id": "d644622e",
   "metadata": {},
   "outputs": [
    {
     "name": "stderr",
     "output_type": "stream",
     "text": [
      "/opt/anaconda3/envs/machine-learning/lib/python3.9/site-packages/sklearn/utils/validation.py:63: DataConversionWarning: A column-vector y was passed when a 1d array was expected. Please change the shape of y to (n_samples, ), for example using ravel().\n",
      "  return f(*args, **kwargs)\n",
      "/var/folders/l4/0n86l_692hx8xxqz3fqkk6mm0000gn/T/ipykernel_2630/879285045.py:13: UserWarning: No contour levels were found within the data range.\n",
      "  plt.contour(u, v, z, 0)\n"
     ]
    },
    {
     "data": {
      "image/png": "[encoded data removed]",
      "text/plain": [
       "<Figure size 432x288 with 1 Axes>"
      ]
     },
     "metadata": {
      "needs_background": "light"
     },
     "output_type": "display_data"
    }
   ],
   "source": [
    "log_reg = LogisticRegression(penalty=\"l2\", solver=\"liblinear\", C=1e4)\n",
    "log_reg.fit(X_poly, y)\n",
    "draw_plot()"
   ]
  },
  {
   "cell_type": "markdown",
   "id": "2c956773",
   "metadata": {},
   "source": [
    "#### C = 100"
   ]
  },
  {
   "cell_type": "code",
   "execution_count": 15,
   "id": "24496fdd",
   "metadata": {},
   "outputs": [
    {
     "name": "stderr",
     "output_type": "stream",
     "text": [
      "/opt/anaconda3/envs/machine-learning/lib/python3.9/site-packages/sklearn/utils/validation.py:63: DataConversionWarning: A column-vector y was passed when a 1d array was expected. Please change the shape of y to (n_samples, ), for example using ravel().\n",
      "  return f(*args, **kwargs)\n",
      "/var/folders/l4/0n86l_692hx8xxqz3fqkk6mm0000gn/T/ipykernel_2630/879285045.py:13: UserWarning: No contour levels were found within the data range.\n",
      "  plt.contour(u, v, z, 0)\n"
     ]
    },
    {
     "data": {
      "image/png": "[encoded data removed]",
      "text/plain": [
       "<Figure size 432x288 with 1 Axes>"
      ]
     },
     "metadata": {
      "needs_background": "light"
     },
     "output_type": "display_data"
    }
   ],
   "source": [
    "log_reg = LogisticRegression(penalty=\"l2\", solver=\"liblinear\", C=100)\n",
    "log_reg.fit(X_poly, y)\n",
    "draw_plot()"
   ]
  },
  {
   "cell_type": "markdown",
   "id": "1c88586b",
   "metadata": {},
   "source": [
    "#### C = 1e-1"
   ]
  },
  {
   "cell_type": "code",
   "execution_count": 16,
   "id": "8127b2c2",
   "metadata": {},
   "outputs": [
    {
     "name": "stderr",
     "output_type": "stream",
     "text": [
      "/opt/anaconda3/envs/machine-learning/lib/python3.9/site-packages/sklearn/utils/validation.py:63: DataConversionWarning: A column-vector y was passed when a 1d array was expected. Please change the shape of y to (n_samples, ), for example using ravel().\n",
      "  return f(*args, **kwargs)\n",
      "/var/folders/l4/0n86l_692hx8xxqz3fqkk6mm0000gn/T/ipykernel_2630/879285045.py:13: UserWarning: No contour levels were found within the data range.\n",
      "  plt.contour(u, v, z, 0)\n"
     ]
    },
    {
     "data": {
      "image/png": "[encoded data removed]",
      "text/plain": [
       "<Figure size 432x288 with 1 Axes>"
      ]
     },
     "metadata": {
      "needs_background": "light"
     },
     "output_type": "display_data"
    }
   ],
   "source": [
    "log_reg = LogisticRegression(penalty=\"l2\", solver=\"liblinear\", C=1e-1)\n",
    "log_reg.fit(X_poly, y)\n",
    "draw_plot()"
   ]
  },
  {
   "cell_type": "markdown",
   "id": "2becdb42",
   "metadata": {},
   "source": [
    "#### C = 1e-2"
   ]
  },
  {
   "cell_type": "code",
   "execution_count": 17,
   "id": "77a9196e",
   "metadata": {},
   "outputs": [
    {
     "name": "stderr",
     "output_type": "stream",
     "text": [
      "/opt/anaconda3/envs/machine-learning/lib/python3.9/site-packages/sklearn/utils/validation.py:63: DataConversionWarning: A column-vector y was passed when a 1d array was expected. Please change the shape of y to (n_samples, ), for example using ravel().\n",
      "  return f(*args, **kwargs)\n",
      "/var/folders/l4/0n86l_692hx8xxqz3fqkk6mm0000gn/T/ipykernel_2630/879285045.py:13: UserWarning: No contour levels were found within the data range.\n",
      "  plt.contour(u, v, z, 0)\n"
     ]
    },
    {
     "data": {
      "image/png": "[encoded data removed]",
      "text/plain": [
       "<Figure size 432x288 with 1 Axes>"
      ]
     },
     "metadata": {
      "needs_background": "light"
     },
     "output_type": "display_data"
    }
   ],
   "source": [
    "log_reg = LogisticRegression(penalty=\"l2\", solver=\"liblinear\", C=1e-2)\n",
    "log_reg.fit(X_poly, y)\n",
    "draw_plot()"
   ]
  },
  {
   "cell_type": "markdown",
   "id": "c631d90c",
   "metadata": {},
   "source": [
    "#### C = 10"
   ]
  },
  {
   "cell_type": "code",
   "execution_count": 43,
   "id": "b7d3b3d7",
   "metadata": {},
   "outputs": [
    {
     "name": "stderr",
     "output_type": "stream",
     "text": [
      "/opt/anaconda3/envs/machine-learning/lib/python3.9/site-packages/sklearn/utils/validation.py:63: DataConversionWarning: A column-vector y was passed when a 1d array was expected. Please change the shape of y to (n_samples, ), for example using ravel().\n",
      "  return f(*args, **kwargs)\n",
      "/var/folders/l4/0n86l_692hx8xxqz3fqkk6mm0000gn/T/ipykernel_2630/879285045.py:13: UserWarning: No contour levels were found within the data range.\n",
      "  plt.contour(u, v, z, 0)\n"
     ]
    },
    {
     "data": {
      "image/png": "[encoded data removed]",
      "text/plain": [
       "<Figure size 432x288 with 1 Axes>"
      ]
     },
     "metadata": {
      "needs_background": "light"
     },
     "output_type": "display_data"
    }
   ],
   "source": [
    "log_reg = LogisticRegression(penalty=\"l2\", solver=\"liblinear\", C=10)\n",
    "log_reg.fit(X_poly, y)\n",
    "draw_plot()"
   ]
  },
  {
   "cell_type": "markdown",
   "id": "53ea6816",
   "metadata": {},
   "source": [
    "## 3. 로지스틱 회귀의 성능 측정법\n",
    "\n",
    "- 편의상 trainset에 대하여 prediction함\n",
    "- 원래는 validation, testset에 대하여 진행해야함"
   ]
  },
  {
   "cell_type": "code",
   "execution_count": 44,
   "id": "2cee26f2",
   "metadata": {},
   "outputs": [
    {
     "data": {
      "text/plain": [
       "array([1, 1, 1, 1, 1, 1, 1, 1, 1, 1, 1, 1, 1, 1, 1, 1, 1, 1, 1, 1, 0, 1,\n",
       "       0, 0, 1, 0, 1, 0, 1, 1, 0, 1, 1, 1, 1, 1, 1, 1, 1, 1, 1, 1, 1, 1,\n",
       "       1, 1, 0, 1, 1, 1, 1, 1, 1, 1, 1, 1, 1, 1, 0, 1, 1, 0, 0, 0, 0, 0,\n",
       "       0, 0, 0, 0, 0, 0, 0, 0, 0, 0, 1, 1, 0, 0, 0, 0, 0, 0, 0, 0, 0, 0,\n",
       "       1, 0, 0, 1, 1, 0, 0, 0, 0, 0, 0, 0, 0, 0, 0, 0, 1, 0, 1, 1, 0, 0,\n",
       "       0, 0, 0, 0, 1, 0, 0, 1])"
      ]
     },
     "execution_count": 44,
     "metadata": {},
     "output_type": "execute_result"
    }
   ],
   "source": [
    "# 1. y값 prediction\n",
    "y_pred = log_reg.predict(X_poly)\n",
    "y_pred"
   ]
  },
  {
   "cell_type": "code",
   "execution_count": 45,
   "id": "3bc2d10a",
   "metadata": {},
   "outputs": [
    {
     "name": "stdout",
     "output_type": "stream",
     "text": [
      "[[48 12]\n",
      " [ 7 51]]\n"
     ]
    },
    {
     "data": {
      "image/png": "[encoded data removed]",
      "text/plain": [
       "<Figure size 288x288 with 1 Axes>"
      ]
     },
     "metadata": {
      "needs_background": "light"
     },
     "output_type": "display_data"
    }
   ],
   "source": [
    "# 2. confusion matrix\n",
    "from sklearn.metrics import confusion_matrix\n",
    "conf_mat = confusion_matrix(y, y_pred)\n",
    "print(conf_mat)\n",
    "plt.matshow(conf_mat, cmap=plt.cm.gray)\n",
    "plt.xlabel(\"True      False\")\n",
    "plt.show()"
   ]
  },
  {
   "cell_type": "code",
   "execution_count": 46,
   "id": "fac99148",
   "metadata": {},
   "outputs": [
    {
     "name": "stdout",
     "output_type": "stream",
     "text": [
      "precision score\t: 0.8095238095238095\n",
      "recall score \t: 0.8793103448275862\n"
     ]
    }
   ],
   "source": [
    "# 3. precision & recall\n",
    "from sklearn.metrics import precision_score, recall_score\n",
    "print(f\"precision score\\t: {precision_score(y, y_pred)}\")\n",
    "print(f\"recall score \\t: {recall_score(y, y_pred)}\")"
   ]
  },
  {
   "cell_type": "code",
   "execution_count": 47,
   "id": "a404ef3b",
   "metadata": {},
   "outputs": [
    {
     "name": "stdout",
     "output_type": "stream",
     "text": [
      "F1 Score.  \t: 0.8429752066115702\n"
     ]
    }
   ],
   "source": [
    "# 4. F1 score\n",
    "from sklearn.metrics import f1_score\n",
    "print(f\"F1 Score.  \\t: {f1_score(y, y_pred)}\")"
   ]
  },
  {
   "cell_type": "code",
   "execution_count": 48,
   "id": "1d29f065",
   "metadata": {},
   "outputs": [
    {
     "data": {
      "text/plain": [
       "array([ 1.63843998,  1.94870322,  1.83153079,  2.07479026,  1.20384302,\n",
       "        0.91958736,  1.31539768,  0.80459852,  0.82760904,  0.34247932,\n",
       "        0.26874529,  0.39113702,  1.15018989,  0.3675054 ,  1.00655759,\n",
       "        1.68656454,  2.48685032,  0.57866268,  1.82488372,  1.02837843,\n",
       "       -0.0467156 ,  0.03289813, -0.42938371, -0.39917066,  0.41712539,\n",
       "       -0.25910028,  0.43110646, -0.46895755,  2.65489212,  0.95626797,\n",
       "       -1.54699759,  0.88657635,  2.1577756 ,  2.50719834,  2.1878541 ,\n",
       "        1.81771385,  1.02809592,  1.81395712,  2.20602113,  1.23912949,\n",
       "        2.17463203,  2.0701022 ,  1.34295993,  2.51972163,  1.58133983,\n",
       "        1.78062333, -0.65522793,  2.41551423,  0.09682876,  0.64037237,\n",
       "        2.35303768,  3.07165023,  2.66452047,  2.80652746,  2.59639042,\n",
       "        1.59857899,  1.99978436,  1.11263191, -2.56980435,  0.04554951,\n",
       "        1.49571632, -1.77163854, -2.55435503, -0.53134378, -1.80424451,\n",
       "       -4.35511438, -1.34643544, -4.22341218, -3.42362307, -1.55362034,\n",
       "       -2.4618821 , -1.91360004, -2.27353326, -1.96926169, -1.89932451,\n",
       "       -0.13578388,  1.17309895,  0.14045748, -2.03190512, -2.3859142 ,\n",
       "       -0.17617805, -0.03353184, -1.33151297, -0.10258769, -3.97613009,\n",
       "       -1.60323447, -1.92397178, -1.83435175,  1.10741273, -1.06290096,\n",
       "       -1.64451959,  0.01681645,  0.60501163, -1.46931545, -2.37478516,\n",
       "       -5.79299648, -8.43684357, -1.93637032, -6.6681795 , -5.12561674,\n",
       "       -1.9676757 , -8.52924806, -0.8225354 , -2.41213515,  0.47660951,\n",
       "       -1.15069142,  0.07325011,  1.52813046, -0.96019769, -2.44248778,\n",
       "       -3.20037027, -2.61604957, -3.47052933, -1.53424241,  0.37018053,\n",
       "       -3.11546635, -2.96877245,  1.57702728])"
      ]
     },
     "execution_count": 48,
     "metadata": {},
     "output_type": "execute_result"
    }
   ],
   "source": [
    "# y probability\n",
    "y_scores = log_reg.decision_function(X_poly)\n",
    "y_scores"
   ]
  },
  {
   "cell_type": "code",
   "execution_count": 49,
   "id": "e3c9ea4f",
   "metadata": {},
   "outputs": [
    {
     "data": {
      "image/png": "[encoded data removed]",
      "text/plain": [
       "<Figure size 432x288 with 1 Axes>"
      ]
     },
     "metadata": {
      "needs_background": "light"
     },
     "output_type": "display_data"
    }
   ],
   "source": [
    "# 5. ROC Curve\n",
    "from sklearn.metrics import roc_curve\n",
    "fpr, tpr, threshold = roc_curve(y, y_scores)\n",
    "\n",
    "def plot_roc_curve(fpr, tpr, label=None):\n",
    "    plt.plot(fpr, tpr, linewidth=2, label=label)\n",
    "    plt.plot([0, 1], [0, 1], 'k--')\n",
    "    plt.axis([0, 1, 0, 1])\n",
    "    plt.xlabel(\"FPR\")\n",
    "    plt.ylabel(\"TPR\")\n",
    "\n",
    "plot_roc_curve(fpr, tpr)\n",
    "plt.show()"
   ]
  },
  {
   "cell_type": "code",
   "execution_count": 50,
   "id": "15ffd8b7",
   "metadata": {},
   "outputs": [
    {
     "name": "stdout",
     "output_type": "stream",
     "text": [
      "roc_auc_score : 0.8396551724137932\n"
     ]
    }
   ],
   "source": [
    "# 6. AUC \n",
    "from sklearn.metrics import roc_auc_score\n",
    "print(f\"roc_auc_score : {roc_auc_score(y, y_pred)}\")"
   ]
  }
 ],
 "metadata": {
  "kernelspec": {
   "display_name": "machine-leraning",
   "language": "python",
   "name": "machine-leraning"
  },
  "language_info": {
   "codemirror_mode": {
    "name": "ipython",
    "version": 3
   },
   "file_extension": ".py",
   "mimetype": "text/x-python",
   "name": "python",
   "nbconvert_exporter": "python",
   "pygments_lexer": "ipython3",
   "version": "3.9.7"
  }
 },
 "nbformat": 4,
 "nbformat_minor": 5
}
